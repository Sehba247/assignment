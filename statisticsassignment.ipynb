{
  "nbformat": 4,
  "nbformat_minor": 0,
  "metadata": {
    "colab": {
      "provenance": []
    },
    "kernelspec": {
      "name": "python3",
      "display_name": "Python 3"
    },
    "language_info": {
      "name": "python"
    }
  },
  "cells": [
    {
      "cell_type": "markdown",
      "source": [
        "# THEORETICAL ANSWERS\n",
        "\n",
        "\n",
        "---\n",
        " ANS-1 Statistics is a branch of mathematics that involves collecting,analyzing ,interpreting and presenting data.It is crucial for understanding data ,making informed decisions and predicting future outcomes.\n",
        "\n",
        " ANS-2 There are two types of statistics as follows:\n",
        "  - Descriptive Statistics\n",
        "  - Inferential Statistics\n",
        "\n",
        "\n",
        "ANS-3 Descriptive statistics are a way of using charts, graphs, and summary measures to organize , represent, and explain a set of data.In descriptive statistics the data is described in a summarized way .The summarization is done from the sample of the population using different parameters like mean or standard deviation.\n",
        "\n",
        "ANS-4 Inferential Statistics is a branch of statistics that uses sample data to draw conclusions or make predictions about a larger population.It involves using probability theory and statistical models to estimate population parameters or test hypothesis.\n",
        "\n",
        "ANS-5 Sampling is the process of selecting a subset (sample) from larger group(population)to gather data and make inferences about the entire population.\n",
        "\n",
        "ANS-6 Different types of sampling methods are -\n",
        " - Probability Sampling - Simple Random Sampling, Stratified Sampling, Cluster Sampling , Systematic Sampling .\n",
        " - Non - Probability Sampling- Convenience Sampling, Quota Sampling , Snowball Sampling , Purposive Sampling .\n",
        "\n",
        "ANS-7 Random Sampling is a sampling technique where each sample has an equal probability of getting selected whereas Non- Random sampling is a sampling technique where the sample selected will be based on factors such as convenience ,judgement and not on probability .\n",
        " - Random sampling is unbiased while non - random sampling is biased in nature .\n",
        "\n",
        "ANS-8 Qualitative data describes qualities or characteristics that are not measured numerically like color, textures or opinions.\n",
        " - Qauntitative data involves numerical measurements or counts ,such as height, weight or age .\n",
        "\n",
        "ANS-9 Qualitative Data ( normal data , ordinal data )and quantitative data (discrete data, continuous data ) are the types of data in statistics.\n",
        "\n",
        "ANS-10 NOMINAL LEVEL - It simply classifies data into categories without any inherent order or ranking .eg- types of fruits , types of cars\n",
        " - ORDINAL LEVEL - It can be ranked but the distance between categories is not measurable .eg - student grades\n",
        " - INTERVAL LEVEL - Data can be ranked and the intervals between values are equal but there is no true zero point.\n",
        " - RATIO LEVEL -  Data can be ranked ,the intervals are equal and there is a true zero point .\n",
        "\n",
        "ANS -11 The central tendency measure is defined as the number to represent the center or middle of a set of data values.\n",
        "\n",
        "ANS -12 Mean is the arithematic average i.e sum of observations divided by number of observations .\n",
        " - Median is the middle value of a dataset .\n",
        " - Mode is the most frequently occuring value in a dataset.\n",
        "\n",
        "ANS-13 Measures of central tendency summarizes data ,facilitate comparisons between groups and aid in decision making.\n",
        "\n",
        "ANS 14 Variance is a statistical measure that tells us how much the data points in a dataset deviate from the average value.\n",
        " - First the mean of numbers is calculated.\n",
        " - Now subtract the mean from each value and square them .\n",
        " -Calculate the average of the squared differences.\n",
        "\n",
        "ANS 15 Standard deviation is a statistical measure that indicates the spread or dispersion of a dataset around its mean .It is the square root of the variance .It allows us to compare the variability of two or more datasets and is used to ensure consistent product quality in manufacturing .\n",
        "\n",
        "ANS 16 The range is a measure of dispersion that represents the difference between the largest and smallest values in a dataset . it provides a quick indication of how much the data values vary .\n",
        "\n",
        "ANS 17 Variance is the average squared difference from the mean while standard variation is the square root of the variance .\n",
        "\n",
        "ANS 18  Skewness in a dataset refers to the degree of asymmetry in the distribution of data points around the mean .\n",
        "\n",
        "ANS 19  A positively skewed dataset means the majority of data points are clustered towards the lower end of a scale with a lower tail extending towards the higher end .\n",
        " - A negatively skewed dataset has most data points clustered towards the higher end with a tail extending towards the lower end .\n",
        "\n",
        "ANS 20  -  Kurtosis is a measure of the tailedness of a distribution , specifically how much data is concentrated in the tails compared to a normal distribution .\n",
        "\n",
        "ANS 21 - Covariance in statistics is a measure of the relationship between two random variables and to what extent they change together. It quantifies how much two variables change together from their mean values.\n",
        "\n",
        "ANS-22 - Correlation measures the strength and direction of the relationship between two variables .It indicates whether the variable tend to change in the same direction ,opposite direction or if there is no coorelationship.\n",
        "\n",
        "ANS- 23 - Correlation measures the strength of the variables under comparison while covariance measures the extent of change in with regards to change in another . Correlation is a unit free measure while covariance value is the product of the units of variable .\n",
        "\n",
        "ANS -24 - Statistics are used in business and finance for the purpose if market research , product quality control and financial analysis .\n",
        "\n",
        " - statistics are crucial for analysing the results of drug trials , determines the effectiveness of medicine .\n",
        " - It helps in tracking disease outbreak , analyze population health data etc .\n",
        " - It helps the government to evaluate the effectiveness of its program and policies.\n",
        " - It is used in sports analytics, weather forecasting etc.\n",
        "\n",
        "\n",
        "\n",
        "\n",
        "\n",
        "\n",
        "\n",
        "\n"
      ],
      "metadata": {
        "id": "MP9Cskxe-kHK"
      }
    },
    {
      "cell_type": "code",
      "source": [
        "#PRACTICAL QUESTIONS\n",
        "#ANS 1 MEAN\n",
        "#for grouped data\n",
        "# mean = sum of( midpoint *frequency) /sum of frequencies\n",
        "#for ungrouped data\n",
        "# MEAN= Sum of observations / NO . of observations .\n",
        "#  MEDIAN\n",
        "#for grouped data\n",
        "# median= l+[(n/2-c)/f]*h\n",
        "#n= no. of observations\n",
        "#c= cumulative frequency of class preceeding the median class\n",
        "#l= lower limit of median class\n",
        "#f= frequency of medisn class\n",
        "#h= height of median classs\n",
        "#for ungrouped data\n",
        "#Arrange the data in ascending or descending order\n",
        " #(IN CASE OF EVEN NO.OF TERMS )\n",
        "#(n/2)th term +(n/2+1 )th term\n",
        "#(in case of odd no. of terms )\n",
        "#(n/2)th term\n",
        "#MODE\n",
        "#for grouped data\n",
        "#Mode= l+(f1-f0/2f1-f0-f2)*h where l= lower limit of modal class\n",
        "#h= size of the class interval\n",
        "#f1= frequency of the modal class\n",
        "#f0= frequency of the class preceding the modal clss\n",
        "#f2= frequency of the class next to the modal class\n",
        "#for ungrouped data\n",
        "#no. with highest frequency is the mode .\n"
      ],
      "metadata": {
        "id": "LvGLMYELY5iu"
      },
      "execution_count": null,
      "outputs": []
    },
    {
      "cell_type": "code",
      "source": [
        "#ANS 2\n",
        "import math\n",
        "def calculate_mean(data)\n",
        "  return sum(data)/len(data)\n",
        "def calculate_variance(data):\n",
        "  n= len(data)\n",
        "  if n<2:\n",
        "    raise valueError(\"Variance require at least two data points\")\n",
        "    mean=calculate_mean(data)\n",
        "    deviations=[(x-mean)**2 for x in data]\n",
        "    variance=sum(deviations)/(n-1)\n",
        "    return variance\n",
        "  def calculate_standard_deviation(data):\n",
        "    variance=calculate_variance(data)\n",
        "    return math.sqrt(variance)"
      ],
      "metadata": {
        "id": "jWFMGCIJdB3O"
      },
      "execution_count": null,
      "outputs": []
    },
    {
      "cell_type": "code",
      "source": [
        "#ans 3\n",
        "import pandas as pd\n",
        "\n",
        "data={\n",
        "    'NOMINAL':['red','green','blue'],\n",
        "    'ORDINAL':['low','medium','high'],\n",
        "    'INTERVAL':[10,20,15],\n",
        "    'RATIO':[2.5,5.0,3.0,]\n",
        "}\n",
        "df=pd.DataFrame(data)\n",
        "print(df)\n"
      ],
      "metadata": {
        "colab": {
          "base_uri": "https://localhost:8080/"
        },
        "id": "rWl3dD91eNnF",
        "outputId": "b5ca849e-e173-49d5-9e8d-55035fe66259"
      },
      "execution_count": 2,
      "outputs": [
        {
          "output_type": "stream",
          "name": "stdout",
          "text": [
            "  NOMINAL ORDINAL  INTERVAL  RATIO\n",
            "0     red     low        10    2.5\n",
            "1   green  medium        20    5.0\n",
            "2    blue    high        15    3.0\n"
          ]
        }
      ]
    },
    {
      "cell_type": "code",
      "source": [
        "#ANS 4\n",
        "import pandas as pd\n",
        "import random\n",
        "data={'Id': range (1,101),\n",
        "      'Value':[ random.randint(1,100) for _ in range (100)]}\n",
        "df=pd.DataFrame(data)\n",
        "print(df)\n",
        "sample_size=20\n",
        "random_sample=df.sample(n=sample_size,random_state=42)\n",
        "print(random_sample)\n",
        "#for stratified sampling\n",
        "df['category']=['A']*30+['B']*30+['C']*40\n",
        "stratified_sample=df.groupby('category').apply(lambda x:x.sample(n=2,random_state=42))\n",
        "print(stratified_sample)\n"
      ],
      "metadata": {
        "colab": {
          "base_uri": "https://localhost:8080/"
        },
        "collapsed": true,
        "id": "cjirBma_fu4u",
        "outputId": "09332504-e5b4-4e46-c8db-8de55162d153"
      },
      "execution_count": 6,
      "outputs": [
        {
          "output_type": "stream",
          "name": "stdout",
          "text": [
            "     Id  Value\n",
            "0     1     78\n",
            "1     2     48\n",
            "2     3     60\n",
            "3     4     13\n",
            "4     5     71\n",
            "..  ...    ...\n",
            "95   96     52\n",
            "96   97     74\n",
            "97   98     16\n",
            "98   99     36\n",
            "99  100     19\n",
            "\n",
            "[100 rows x 2 columns]\n",
            "    Id  Value\n",
            "83  84      2\n",
            "53  54     75\n",
            "70  71     79\n",
            "45  46     21\n",
            "44  45     13\n",
            "39  40     48\n",
            "22  23     20\n",
            "80  81     74\n",
            "10  11     92\n",
            "0    1     78\n",
            "18  19     18\n",
            "30  31     72\n",
            "73  74     22\n",
            "33  34     16\n",
            "90  91     40\n",
            "4    5     71\n",
            "76  77      6\n",
            "77  78     98\n",
            "12  13     46\n",
            "31  32     78\n",
            "             Id  Value category\n",
            "category                       \n",
            "A        27  28     97        A\n",
            "         15  16     68        A\n",
            "B        57  58     13        B\n",
            "         45  46     21        B\n",
            "C        79  80     68        C\n",
            "         76  77      6        C\n"
          ]
        },
        {
          "output_type": "stream",
          "name": "stderr",
          "text": [
            "<ipython-input-6-cd9b0f8937dd>:13: DeprecationWarning: DataFrameGroupBy.apply operated on the grouping columns. This behavior is deprecated, and in a future version of pandas the grouping columns will be excluded from the operation. Either pass `include_groups=False` to exclude the groupings or explicitly select the grouping columns after groupby to silence this warning.\n",
            "  stratified_sample=df.groupby('category').apply(lambda x:x.sample(n=2,random_state=42))\n"
          ]
        }
      ]
    },
    {
      "cell_type": "code",
      "source": [
        "#ANS5\n",
        "def calculate_range(data):\n",
        "  min_val=min(data)\n",
        "  max_val=max(data)\n",
        "  return max_val-min_val\n",
        "data=[10,15,20,25,30]\n",
        "range_value=calculate_range(data)\n",
        "print(range_value)"
      ],
      "metadata": {
        "colab": {
          "base_uri": "https://localhost:8080/"
        },
        "id": "udCQwVoTfanV",
        "outputId": "aed816ee-6591-49e9-ac21-f655130172ed"
      },
      "execution_count": 7,
      "outputs": [
        {
          "output_type": "stream",
          "name": "stdout",
          "text": [
            "20\n"
          ]
        }
      ]
    },
    {
      "cell_type": "code",
      "source": [
        "#ANS 6\n",
        "import numpy as np\n",
        "import matplotlib.pyplot as plt\n",
        "data= np.random.exponential(scale=2,size=1000)\n",
        "plt.hist(data,bins=30,color='skyblue',edgecolor='black')\n",
        "\n",
        "plt.xlabel('Value')\n",
        "plt.ylabel('Frequency')\n",
        "plt.title('Histogram of skewed Data')\n",
        "plt.show()"
      ],
      "metadata": {
        "colab": {
          "base_uri": "https://localhost:8080/",
          "height": 472
        },
        "id": "ueoO1tn9i6iz",
        "outputId": "fc510282-2faf-40a5-e5d8-9c52292cc1a8"
      },
      "execution_count": 9,
      "outputs": [
        {
          "output_type": "display_data",
          "data": {
            "text/plain": [
              "<Figure size 640x480 with 1 Axes>"
            ],
            "image/png": "[encoded data removed]"
          },
          "metadata": {}
        }
      ]
    },
    {
      "cell_type": "code",
      "source": [
        "#ANS 7\n",
        "import pandas as pd\n",
        "from scipy.stats import skew ,kurtosis\n",
        "data =pd.Series([1,2,3,4,5,6,7,8,9,10])\n",
        "skewness=skew(data)\n",
        "print(f\"skewnesss:{skewness}\")\n",
        "kurtosis_value=kurtosis(data)\n",
        "print(f\"kurtosis:{kurtosis_value}\")\n"
      ],
      "metadata": {
        "colab": {
          "base_uri": "https://localhost:8080/"
        },
        "id": "1DvgeuUzj4Et",
        "outputId": "3189e028-ec05-4a8d-b9f6-00d2e1da2fe4"
      },
      "execution_count": 11,
      "outputs": [
        {
          "output_type": "stream",
          "name": "stdout",
          "text": [
            "skewnesss:0.0\n",
            "kurtosis:-1.2242424242424244\n"
          ]
        }
      ]
    },
    {
      "cell_type": "markdown",
      "source": [],
      "metadata": {
        "id": "9ZJHDc9TlT0n"
      }
    },
    {
      "cell_type": "code",
      "source": [
        "#ANS 8\n",
        "import numpy as np\n",
        "import matplotlib.pyplot as plt\n",
        "from scipy.stats import skewnorm\n",
        "positive_skewed_data=skewnorm.rvs(a=1,loc=10,scale=2,size=1000)\n",
        "negative_skewed_data=skewnorm.rvs(a=-1,loc=10,scale=2,size=1000)\n",
        "plt.figure(figsize=(10,6))\n",
        "plt.subplot(1,2,1)\n",
        "plt.hist(positive_skewed_data,bins=30,color='skyblue',edgecolor='black',alpha=0.7,label='Positive Skewed')\n",
        "plt.title('positive')\n",
        "plt.subplot(1,2,2)\n",
        "plt.hist(negative_skewed_data,bins=30,color='skyblue',edgecolor='black',alpha=0.7,label='Negative Skewed')\n",
        "plt.title('Negative')\n",
        "plt.show()\n"
      ],
      "metadata": {
        "colab": {
          "base_uri": "https://localhost:8080/",
          "height": 545
        },
        "id": "J_VWq9xbk8lK",
        "outputId": "de3f57cb-095a-4abe-ada7-98d9a3d68b3f"
      },
      "execution_count": 13,
      "outputs": [
        {
          "output_type": "display_data",
          "data": {
            "text/plain": [
              "<Figure size 1000x600 with 2 Axes>"
            ],
            "image/png": "[encoded data removed]"
          },
          "metadata": {}
        }
      ]
    },
    {
      "cell_type": "code",
      "source": [
        "#ANS 9\n",
        "import numpy as  np\n",
        "def calculate_covariance(data1,data2):\n",
        "  data1=np.array(data1)\n",
        "  data2=np.array(data2)\n",
        "  mean1=np.mean(data1)\n",
        "  mean2=np.mean(data2)\n",
        "  covariance=np.sum((data1-mean1)*(data2-mean2))/(len(data1)-1)\n",
        "  return covariance\n"
      ],
      "metadata": {
        "id": "_4e_AXP3mgFZ"
      },
      "execution_count": 14,
      "outputs": []
    },
    {
      "cell_type": "code",
      "source": [
        "#ANS10\n",
        "from scipy.stats import pearsonr\n",
        "def calculate_correlation_coefficient(data1,data2):\n",
        "  if len(data1)!=len(data2) or len(data1)==0:\n",
        "    raise ValueError(\"Input lists must have the same length\")\n",
        "    correlation,_=pearsonr(data1,data2)\n",
        "    return correlation\n",
        "  if __name__==\"__main__\":\n",
        "    data1=[1,2,3,4,5]\n",
        "    data2=[6,7,8,9,10]\n",
        "    correlation_coefficient=calculate_correlation_coefficient(data1,data2)\n",
        "  if correlation_coefficient is not None:\n",
        "    print(f\"correlation coefficient:{correlation_coefficient}\")\n"
      ],
      "metadata": {
        "id": "kepaXae1n3-U"
      },
      "execution_count": 15,
      "outputs": []
    },
    {
      "cell_type": "code",
      "source": [
        "#ANS 11\n",
        "import matplotlib.pyplot as plt\n",
        "x=[1,2,3,4,5]\n",
        "y=[2,4,6,8,10]\n",
        "plt.scatter(x,y)\n",
        "plt.xlabel(\"X-axis label\")\n",
        "plt.ylabel(\"Y-axis label\")\n",
        "plt.title(\"Scatter Plot of x vs y\")\n",
        "plt.show()"
      ],
      "metadata": {
        "colab": {
          "base_uri": "https://localhost:8080/",
          "height": 472
        },
        "id": "nWDCYTWdpk_o",
        "outputId": "9910cbfc-d2c8-4df6-fbde-5270bb1823b4"
      },
      "execution_count": 16,
      "outputs": [
        {
          "output_type": "display_data",
          "data": {
            "text/plain": [
              "<Figure size 640x480 with 1 Axes>"
            ],
            "image/png": "[encoded data removed]"
          },
          "metadata": {}
        }
      ]
    },
    {
      "cell_type": "code",
      "source": [
        "#ANS12\n",
        "# In simple random sampling each member of the population has an equal chance of being selected for the sample .\n",
        "import random\n",
        "def simple_random_samp(population, sample_size):\n",
        "  if sample_size>len(population):\n",
        "    return \"sample size cannot exceed population size\"\n",
        "    return random.sample(population,sample_size)\n",
        "  population=[1,2,3,4,5,6,7,8,9,10]\n",
        "  sample_size=5\n",
        "  sample=simple_random_samp(population,sample_size)\n",
        "  print(\"simple random sample:\",sample)\n",
        "  #In systematic sampling ,members of the population are selected at regular intervals after a random starting point.\n",
        "def systematic_sampling(population,sample_size):\n",
        "  if sample_size>len(population):\n",
        "    return \"sample size exceed population size\"\n",
        "    interval=len(population)//sample_size\n",
        "    start=random.randint(0,interval-1)\n",
        "    indices=range(start,len(population),interval)\n",
        "    return[population[i]for i in indices if i<len(population)]\n",
        "  population=[1,2,3,4,5,6,7,8,9,10]\n",
        "  sample_size=5\n",
        "  sample=systematic_sampling(population,sample_size)\n",
        "  print(\"systematic sample:\",sample)"
      ],
      "metadata": {
        "id": "Rk6xy5gmqyg9"
      },
      "execution_count": 19,
      "outputs": []
    },
    {
      "cell_type": "code",
      "source": [
        "#ANS 13\n",
        "def calculate_mean(data):\n",
        "  total_frequency=sum(frequency for _,frequency in data)\n",
        "  sum_midpoint_frequency=sum(((interval[0]+interval[1])/2)*frequency for interval,frequency in data)\n",
        "  return sum_midpoint_frequency/total_frequency\n",
        "  data=[((10,20),5),((20,30),6),((30,40),10)]\n",
        "  print(calculate_mean(data))\n",
        "def calculate_median(data):\n",
        "  n=sum(frequency for _,_,frequency in data)\n",
        "  n_half=n/2\n",
        "  cumulative_frequency=0\n",
        "  median_class_index=-1\n",
        "  for i,((lowe_limit,upper_limit),frequency)in enumerate(data):\n",
        "    cumulative_frequency+=frequency\n",
        "    if cumulative_frequency>=total_frequency/2:\n",
        "      median_class_index=i\n",
        "      break\n",
        "\n",
        "    if median_class_index==-1:\n",
        "       return None\n",
        "    lower_limit,upper_limit=data[median_class_index][0]\n",
        "    cf=cumulative_frequency-frequency\n",
        "    interval=upper_limit-lower_limit\n",
        "    median=lower_limit+((n_half-cf)/frequency)*interval\n",
        "    return median\n",
        "def calculate_mode(data):\n",
        "  if not data:\n",
        "    return None\n",
        "  modal_class_index=max(range(len(data)),key=lambda i:data[i][2])\n",
        "  l._,f1=data[modal_class_index]\n",
        "  f0=data[modal_class_index-1][2] if modal_class_index>0 else 0\n",
        "  f2=data[modal_class_index+1][2] if modal_class_index<len(data)-1 else 0\n",
        "  h=data[modal_class_index][1]\n",
        "  mode=l+(f1-f0/2*f1-f0-f2)*h\n",
        "  return mode"
      ],
      "metadata": {
        "id": "WirFH2P3strJ"
      },
      "execution_count": 40,
      "outputs": []
    },
    {
      "cell_type": "code",
      "source": [
        "#ANS 14\n",
        "import numpy as np\n",
        "from scipy import stats\n",
        "\n",
        "# Simulate data (e.g., 100 random numbers from a normal distribution)\n",
        "data = np.random.normal(loc=0, scale=1, size=100)\n",
        "\n",
        "# Central tendency measures\n",
        "mean = np.mean(data)\n",
        "median = np.median(data)\n",
        "mode = stats.mode(data, keepdims=True)\n",
        "\n",
        "# Dispersion measures\n",
        "variance = np.var(data)\n",
        "std_dev = np.std(data)\n",
        "range_val = np.max(data) - np.min(data)\n",
        "iqr = stats.iqr(data)\n",
        "\n",
        "print(f\"Mean: {mean}\")\n",
        "print(f\"Median: {median}\")\n",
        "print(f\"Mode: {mode.mode[0]} (appears {mode.count[0]} times)\")\n",
        "print(f\"Variance: {variance}\")\n",
        "print(f\"Standard Deviation: {std_dev}\")\n",
        "print(f\"Range: {range_val}\")\n",
        "print(f\"IQR: {iqr}\")"
      ],
      "metadata": {
        "id": "M8OJ4yRiv-6A"
      },
      "execution_count": null,
      "outputs": []
    },
    {
      "cell_type": "code",
      "source": [
        "#ANS15\n",
        "#Using NumPy\n",
        "\n",
        "import numpy as np\n",
        "\n",
        "# Sample data (NumPy array)\n",
        "data_np = np.random.rand(100)\n",
        "\n",
        "# Calculate statistics\n",
        "print(\"Mean:\", np.mean(data_np))\n",
        "print(\"Median:\", np.median(data_np))\n",
        "print(\"Standard Deviation:\", np.std(data_np))\n",
        "print(\"Variance:\", np.var(data_np))\n",
        "print(\"Min:\", np.min(data_np))\n",
        "print(\"Max:\", np.max(data_np))\n",
        "print(\"Percentiles (25th, 50th, 75th):\", np.percentile(data_np, [25, 50, 75]))"
      ],
      "metadata": {
        "id": "FxXspsPBv6SS"
      },
      "execution_count": null,
      "outputs": []
    },
    {
      "cell_type": "code",
      "source": [
        "#ans16\n",
        "\n",
        "import matplotlib.pyplot as plt\n",
        "import numpy as np\n",
        "\n",
        "# Generate sample data\n",
        "np.random.seed(42)\n",
        "data = np.concatenate([np.random.normal(50, 15, 100), np.random.normal(100, 20, 50), [160, 170, -20, -30]])\n",
        "\n",
        "# Create the boxplot\n",
        "plt.figure(figsize=(8, 6))\n",
        "plt.boxplot(data)\n",
        "plt.title('Boxplot of Data with Outliers')\n",
        "plt.ylabel('Values')\n",
        "plt.show()"
      ],
      "metadata": {
        "id": "5kfkSEf4z4rs"
      },
      "execution_count": null,
      "outputs": []
    },
    {
      "cell_type": "code",
      "source": [
        "#ans17\n",
        "import numpy as np\n",
        "\n",
        "def calculate_iqr(data):\n",
        "  \"\"\"\n",
        "  Calculates the interquartile range (IQR) of a dataset.\n",
        "\n",
        "  Args:\n",
        "    data: A list or numpy array of numerical data.\n",
        "\n",
        "  Returns:\n",
        "    The interquartile range (IQR) of the data.\n",
        "  \"\"\"\n",
        "  q75, q25 = np.percentile(data, [75, 25])\n",
        "  return q75 - q25\n",
        "\n",
        "# Example usage\n",
        "data = [4, 1, 11, 2, 8, 7, 3, 5, 9, 6, 10]\n",
        "iqr = calculate_iqr(data)\n",
        "print(f\"The interquartile range is: {iqr}\")\n",
        "\n",
        "data = np.array([12, 15, 17, 20, 21, 22, 25, 28, 30, 31, 32, 33, 35])\n",
        "iqr = calculate_iqr(data)\n",
        "print(f\"The interquartile range is: {iqr}\")\n"
      ],
      "metadata": {
        "id": "QymQZvV_0Mgf"
      },
      "execution_count": null,
      "outputs": []
    },
    {
      "cell_type": "code",
      "source": [
        "#ans18\n",
        "\"\"\"\n",
        "Significance of z-scores\n",
        "Comparison of Data Points:\n",
        "Z-scores allow direct comparison of data points from different datasets, as they are transformed to a common scale, according to an AI Online Course post.\n",
        "Outlier Detection:\n",
        "Data points with Z-scores significantly above or below 0 (e.g., > +3 or < -3) can be considered outliers.\n",
        "Scale Bias Removal:\n",
        "By standardizing the data, Z-scores eliminate scale bias, ensuring all variables have equal influence in analysis.\n",
        "Improved Model Performance:\n",
        "Z-score normalization can improve the performance of machine learning algorithms.\n",
        "\"\"\"\n"
      ],
      "metadata": {
        "colab": {
          "base_uri": "https://localhost:8080/",
          "height": 122
        },
        "id": "4et3S9Tj0a1U",
        "outputId": "3a875a80-53d7-44f6-90ea-a7d864984b60"
      },
      "execution_count": 41,
      "outputs": [
        {
          "output_type": "execute_result",
          "data": {
            "text/plain": [
              "'\\nSignificance of z-scores\\nComparison of Data Points:\\nZ-scores allow direct comparison of data points from different datasets, as they are transformed to a common scale, according to an AI Online Course post. \\nOutlier Detection:\\nData points with Z-scores significantly above or below 0 (e.g., > +3 or < -3) can be considered outliers. \\nScale Bias Removal:\\nBy standardizing the data, Z-scores eliminate scale bias, ensuring all variables have equal influence in analysis. \\nImproved Model Performance:\\nZ-score normalization can improve the performance of machine learning algorithms. \\n'"
            ],
            "application/vnd.google.colaboratory.intrinsic+json": {
              "type": "string"
            }
          },
          "metadata": {},
          "execution_count": 41
        }
      ]
    },
    {
      "cell_type": "code",
      "source": [
        "#ans18\n",
        "#implementation of z- score\n",
        "import numpy as np\n",
        "\n",
        "def z_score_normalization(data):\n",
        "    \"\"\"\n",
        "    Normalizes the input data using the Z-score method.\n",
        "\n",
        "    Args:\n",
        "        data (list or numpy.ndarray): A list or numpy array of numerical data.\n",
        "\n",
        "    Returns:\n",
        "        numpy.ndarray: A numpy array of normalized data.\n",
        "    \"\"\"\n",
        "    data_mean = np.mean(data)\n",
        "    data_std = np.std(data)\n",
        "    normalized_data = (data - data_mean) / data_std\n",
        "    return normalized_data\n",
        "\n",
        "# Example usage\n",
        "data = [10, 20, 30, 40, 50]\n",
        "normalized_data = z_score_normalization(data)\n",
        "print(normalized_data)"
      ],
      "metadata": {
        "id": "bxC_bKVk1Lvh"
      },
      "execution_count": null,
      "outputs": []
    },
    {
      "cell_type": "code",
      "source": [
        "#ans 19\n",
        "import statistics\n",
        "import numpy as np\n",
        "\n",
        "dataset1 = [10, 12, 15, 11, 9, 13]\n",
        "dataset2 = [20, 8, 16, 4, 12, 24]\n",
        "\n",
        "std_dev1_statistics = statistics.stdev(dataset1)\n",
        "std_dev2_statistics = statistics.stdev(dataset2)\n",
        "\n",
        "std_dev1_numpy = np.std(dataset1)\n",
        "std_dev2_numpy = np.std(dataset2)\n",
        "\n",
        "print(f\"Standard deviation of dataset1 (using statistics): {std_dev1_statistics}\")\n",
        "print(f\"Standard deviation of dataset2 (using statistics): {std_dev2_statistics}\")\n",
        "print(f\"Standard deviation of dataset1 (using numpy): {std_dev1_numpy}\")\n",
        "print(f\"Standard deviation of dataset2 (using numpy): {std_dev2_numpy}\")"
      ],
      "metadata": {
        "colab": {
          "base_uri": "https://localhost:8080/"
        },
        "id": "_x5BSuTH1aBd",
        "outputId": "c1b246b5-893d-4ddb-8189-4f0432822c57"
      },
      "execution_count": 43,
      "outputs": [
        {
          "output_type": "stream",
          "name": "stdout",
          "text": [
            "Standard deviation of dataset1 (using statistics): 2.160246899469287\n",
            "Standard deviation of dataset2 (using statistics): 7.483314773547883\n",
            "Standard deviation of dataset1 (using numpy): 1.9720265943665387\n",
            "Standard deviation of dataset2 (using numpy): 6.831300510639732\n"
          ]
        }
      ]
    },
    {
      "cell_type": "code",
      "source": [
        "#ans 20\n",
        "import matplotlib.pyplot as plt\n",
        "import seaborn as sns\n",
        "\n",
        "# Generate a sample covariance matrix\n",
        "np.random.seed(42)\n",
        "data = np.random.multivariate_normal([0, 0], [[1, 0.8], [0.8, 1]], 100)\n",
        "df = pd.DataFrame(data, columns=['Feature 1', 'Feature 2'])\n",
        "covariance_matrix = df.cov()\n",
        "\n",
        "# Create the heatmap\n",
        "plt.figure(figsize=(8, 6))\n",
        "sns.heatmap(covariance_matrix, annot=True, cmap='coolwarm', fmt=\".2f\", linewidths=.5)\n",
        "plt.title('Covariance Heatmap')\n",
        "plt.show()\n"
      ],
      "metadata": {
        "colab": {
          "base_uri": "https://localhost:8080/",
          "height": 545
        },
        "id": "FTqkieep253R",
        "outputId": "62259200-b64f-40ce-91a7-b95614c8bc12"
      },
      "execution_count": 45,
      "outputs": [
        {
          "output_type": "display_data",
          "data": {
            "text/plain": [
              "<Figure size 800x600 with 2 Axes>"
            ],
            "image/png": "[encoded data removed]"
          },
          "metadata": {}
        }
      ]
    },
    {
      "cell_type": "code",
      "source": [
        "#ans 21\n",
        "\n",
        "\n",
        "from string import ascii_letters\n",
        "import numpy as np\n",
        "import pandas as pd\n",
        "import seaborn as sns\n",
        "import matplotlib.pyplot as plt\n",
        "\n",
        "sns.set_theme(style=\"white\")\n",
        "\n",
        "# Generate a large random dataset\n",
        "rs = np.random.RandomState(33)\n",
        "d = pd.DataFrame(data=rs.normal(size=(100, 26)),\n",
        "                 columns=list(ascii_letters[26:]))\n",
        "\n",
        "# Compute the correlation matrix\n",
        "corr = d.corr()\n",
        "\n",
        "# Generate a mask for the upper triangle\n",
        "mask = np.triu(np.ones_like(corr, dtype=bool))\n",
        "\n",
        "# Set up the matplotlib figure\n",
        "f, ax = plt.subplots(figsize=(11, 9))\n",
        "\n",
        "# Generate a custom diverging colormap\n",
        "cmap = sns.diverging_palette(230, 20, as_cmap=True)\n",
        "\n",
        "# Draw the heatmap with the mask and correct aspect ratio\n",
        "sns.heatmap(corr, mask=mask, cmap=cmap, vmax=.3, center=0,\n",
        "            square=True, linewidths=.5, cbar_kws={\"shrink\": .5})\n",
        "\n",
        "\n"
      ],
      "metadata": {
        "colab": {
          "base_uri": "https://localhost:8080/",
          "height": 764
        },
        "id": "Li0vhMOk3vTZ",
        "outputId": "926977fb-fdc8-42a1-b815-01ee3184649d"
      },
      "execution_count": 47,
      "outputs": [
        {
          "output_type": "execute_result",
          "data": {
            "text/plain": [
              "<Axes: >"
            ]
          },
          "metadata": {},
          "execution_count": 47
        },
        {
          "output_type": "display_data",
          "data": {
            "text/plain": [
              "<Figure size 1100x900 with 2 Axes>"
            ],
            "image/png": "[encoded data removed]"
          },
          "metadata": {}
        }
      ]
    },
    {
      "cell_type": "code",
      "source": [
        "#ans 22\n",
        "import random\n",
        "import math\n",
        "\n",
        "def generate_dataset(size, min_value, max_value):\n",
        "    \"\"\"Generates a list of random integers.\"\"\"\n",
        "    return [random.randint(min_value, max_value) for _ in range(size)]\n",
        "\n",
        "def calculate_mean(dataset):\n",
        "    \"\"\"Calculates the mean of a dataset.\"\"\"\n",
        "    return sum(dataset) / len(dataset)\n",
        "\n",
        "def calculate_variance(dataset, mean):\n",
        "   \"\"\"Calculates the variance of a dataset.\"\"\"\n",
        "   return sum([(x - mean) ** 2 for x in dataset]) / len(dataset)\n",
        "\n",
        "def calculate_std_dev(variance):\n",
        "    \"\"\"Calculates the standard deviation from the variance.\"\"\"\n",
        "    return math.sqrt(variance)\n",
        "\n",
        "# Generate a dataset\n",
        "dataset_size = 100\n",
        "min_value = 0\n",
        "max_value = 1000\n",
        "dataset = generate_dataset(dataset_size, min_value, max_value)\n",
        "\n",
        "# Calculate mean\n",
        "mean = calculate_mean(dataset)\n",
        "\n",
        "# Calculate variance\n",
        "variance = calculate_variance(dataset, mean)\n",
        "\n",
        "# Calculate standard deviation\n",
        "std_dev = calculate_std_dev(variance)\n",
        "\n",
        "# Print results\n",
        "print(f\"Dataset: {dataset}\")\n",
        "print(f\"Mean: {mean}\")\n",
        "print(f\"Variance: {variance}\")\n",
        "print(f\"Standard Deviation: {std_dev}\")"
      ],
      "metadata": {
        "colab": {
          "base_uri": "https://localhost:8080/"
        },
        "id": "xow7Gl2G4Tvw",
        "outputId": "86210a59-a206-4b35-edba-c547056649ba"
      },
      "execution_count": 48,
      "outputs": [
        {
          "output_type": "stream",
          "name": "stdout",
          "text": [
            "Dataset: [466, 759, 409, 878, 9, 605, 640, 864, 300, 805, 219, 350, 980, 819, 497, 886, 601, 340, 639, 87, 192, 62, 775, 808, 745, 458, 651, 758, 802, 115, 948, 557, 212, 774, 279, 128, 492, 544, 167, 391, 260, 83, 1, 437, 868, 838, 219, 78, 424, 982, 291, 304, 639, 826, 378, 630, 325, 666, 80, 73, 797, 838, 385, 892, 928, 499, 581, 930, 962, 905, 714, 294, 66, 574, 394, 78, 622, 828, 409, 719, 339, 416, 541, 111, 158, 353, 684, 829, 314, 727, 445, 771, 472, 283, 195, 589, 600, 104, 746, 907]\n",
            "Mean: 514.12\n",
            "Variance: 78950.08560000002\n",
            "Standard Deviation: 280.9805786882788\n"
          ]
        }
      ]
    },
    {
      "cell_type": "code",
      "source": [
        "#ans 23\n",
        "import matplotlib.pyplot as plt\n",
        "import seaborn as sns\n",
        "import numpy as np\n",
        "from scipy.stats import skew, kurtosis\n",
        "\n",
        "# Generate a sample dataset\n",
        "data = np.random.normal(0, 1, 1000)\n",
        "\n",
        "# Calculate skewness and kurtosis\n",
        "skewness = skew(data)\n",
        "kurt = kurtosis(data)\n",
        "\n",
        "# Create the plot\n",
        "plt.figure(figsize=(10, 6))\n",
        "sns.histplot(data, kde=True)\n",
        "\n",
        "# Add text annotations for skewness and kurtosis\n",
        "plt.text(0.97, 0.91, f'Skewness: {skewness:.2f}', transform=plt.gca().transAxes, ha='right')\n",
        "plt.text(0.97, 0.86, f'Kurtosis: {kurt:.2f}', transform=plt.gca().transAxes, ha='right')\n",
        "\n",
        "# Customize the plot\n",
        "plt.title('Distribution with Skewness and Kurtosis')\n",
        "plt.xlabel('Value')\n",
        "plt.ylabel('Frequency')\n",
        "plt.show()"
      ],
      "metadata": {
        "colab": {
          "base_uri": "https://localhost:8080/",
          "height": 571
        },
        "id": "Jru-Nrva4Xdy",
        "outputId": "34732057-963f-41c3-8104-0b5b3c51aca9"
      },
      "execution_count": 49,
      "outputs": [
        {
          "output_type": "display_data",
          "data": {
            "text/plain": [
              "<Figure size 1000x600 with 1 Axes>"
            ],
            "image/png": "[encoded data removed]"
          },
          "metadata": {}
        }
      ]
    },
    {
      "cell_type": "code",
      "source": [
        "#ANS 24\n",
        "import numpy as np\n",
        "import pandas as pd\n",
        "from scipy.stats import pearsonr, spearmanr\n",
        "\n",
        "def pearson_correlation(x, y):\n",
        "    \"\"\"\n",
        "    Calculates Pearson's correlation coefficient.\n",
        "\n",
        "    Args:\n",
        "    x (list or numpy array): The first dataset.\n",
        "    y (list or numpy array): The second dataset.\n",
        "\n",
        "    Returns:\n",
        "    float: Pearson's correlation coefficient, or None if input is invalid.\n",
        "    \"\"\"\n",
        "    if len(x) != len(y) or len(x) < 2:  # Ensure input is valid\n",
        "        return None\n",
        "    return pearsonr(x, y)[0] # Return the correlation coefficient\n",
        "\n",
        "def spearman_correlation(x, y):\n",
        "    \"\"\"\n",
        "    Calculates Spearman's rank correlation coefficient.\n",
        "\n",
        "    Args:\n",
        "    x (list or numpy array): The first dataset.\n",
        "    y (list or numpy array): The second dataset.\n",
        "\n",
        "    Returns:\n",
        "    float: Spearman's rank correlation coefficient, or None if input is invalid.\n",
        "    \"\"\"\n",
        "    if len(x) != len(y) or len(x) < 2: # Ensure input is valid\n",
        "        return None\n",
        "    return spearmanr(x, y)[0] # Return the correlation coefficient\n",
        "\n",
        "\n",
        "# Example Usage\n",
        "data = {\"x\": [1, 2, 3, 4, 5], \"y\": [2, 4, 5, 4, 5]}\n",
        "df = pd.DataFrame(data)\n",
        "x = df[\"x\"].values\n",
        "y = df[\"y\"].values\n",
        "\n",
        "# Pearson's Correlation\n",
        "pearson_corr = pearson_correlation(x, y)\n",
        "print(f\"Pearson's Correlation: {pearson_corr}\")\n",
        "\n",
        "# Spearman's Correlation\n",
        "spearman_corr = spearman_correlation(x, y)\n",
        "print(f\"Spearman's Correlation: {spearman_corr}\")"
      ],
      "metadata": {
        "colab": {
          "base_uri": "https://localhost:8080/"
        },
        "id": "fLjgBx8K4k2h",
        "outputId": "c712d353-a401-4388-b214-bceb2607abd8"
      },
      "execution_count": 50,
      "outputs": [
        {
          "output_type": "stream",
          "name": "stdout",
          "text": [
            "Pearson's Correlation: 0.7745966692414834\n",
            "Spearman's Correlation: 0.7378647873726218\n"
          ]
        }
      ]
    }
  ]
}